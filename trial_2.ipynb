{
 "cells": [
  {
   "source": [
    "# Apriori Algorithm"
   ],
   "cell_type": "markdown",
   "metadata": {}
  },
  {
   "source": [
    "Apriori algorithm is a method used to reveal product associations from user purchases. It provides the opportunity to see the association of products purchased according to a threshold value to be determined.\n",
    "  \n",
    "Support(X, Y) = Freq(X, Y) / N -- (The probability of X and Y are seen together)  \n",
    "Confidence(X, Y) = Freq(X, Y) / Freq(X) -- (Probability of selling product Y when product X is sold)  \n",
    "Lift = Support(X, Y) / (Support(X) * Support(Y)) -- X purchases increase sales of Y Lift times more  \n",
    "\n",
    "\n"
   ],
   "cell_type": "markdown",
   "metadata": {}
  },
  {
   "cell_type": "code",
   "execution_count": 1,
   "metadata": {},
   "outputs": [],
   "source": [
    "import pandas as pd\n",
    "import numpy as np\n",
    "from mlxtend.frequent_patterns import apriori, association_rules\n",
    "from mlxtend.preprocessing import TransactionEncoder"
   ]
  },
  {
   "cell_type": "code",
   "execution_count": 2,
   "metadata": {},
   "outputs": [
    {
     "output_type": "execute_result",
     "data": {
      "text/plain": [
       "[['MILK', 'BREAD', 'BISCUIT'],\n",
       " ['BREAD', 'MILK', 'BISCUIT', 'CORNFLAKES'],\n",
       " ['BREAD', 'TEA', 'BOURNVITA'],\n",
       " ['JAM', 'MAGGI', 'BREAD', 'MILK'],\n",
       " ['MAGGI', 'TEA', 'BISCUIT'],\n",
       " ['BREAD', 'TEA', 'BOURNVITA'],\n",
       " ['MAGGI', 'TEA', 'CORNFLAKES'],\n",
       " ['MAGGI', 'BREAD', 'TEA', 'BISCUIT'],\n",
       " ['JAM', 'MAGGI', 'BREAD', 'TEA'],\n",
       " ['BREAD', 'MILK'],\n",
       " ['COFFEE', 'COCK', 'BISCUIT', 'CORNFLAKES'],\n",
       " ['COFFEE', 'COCK', 'BISCUIT', 'CORNFLAKES'],\n",
       " ['COFFEE', 'SUGER', 'BOURNVITA'],\n",
       " ['BREAD', 'COFFEE', 'COCK'],\n",
       " ['BREAD', 'SUGER', 'BISCUIT'],\n",
       " ['COFFEE', 'SUGER', 'CORNFLAKES'],\n",
       " ['BREAD', 'SUGER', 'BOURNVITA'],\n",
       " ['BREAD', 'COFFEE', 'SUGER'],\n",
       " ['BREAD', 'COFFEE', 'SUGER'],\n",
       " ['TEA', 'MILK', 'COFFEE', 'CORNFLAKES']]"
      ]
     },
     "metadata": {},
     "execution_count": 2
    }
   ],
   "source": [
    "with open('GroceryStoreDataSet.csv') as file:\n",
    "    data = [line.lstrip('\"').rstrip('\"\\n').split(\",\") for line in file]\n",
    "data"
   ]
  },
  {
   "cell_type": "code",
   "execution_count": 3,
   "metadata": {},
   "outputs": [
    {
     "output_type": "execute_result",
     "data": {
      "text/plain": [
       "    BISCUIT  BOURNVITA  BREAD   COCK  COFFEE  CORNFLAKES    JAM  MAGGI   MILK  \\\n",
       "0      True      False   True  False   False       False  False  False   True   \n",
       "1      True      False   True  False   False        True  False  False   True   \n",
       "2     False       True   True  False   False       False  False  False  False   \n",
       "3     False      False   True  False   False       False   True   True   True   \n",
       "4      True      False  False  False   False       False  False   True  False   \n",
       "5     False       True   True  False   False       False  False  False  False   \n",
       "6     False      False  False  False   False        True  False   True  False   \n",
       "7      True      False   True  False   False       False  False   True  False   \n",
       "8     False      False   True  False   False       False   True   True  False   \n",
       "9     False      False   True  False   False       False  False  False   True   \n",
       "10     True      False  False   True    True        True  False  False  False   \n",
       "11     True      False  False   True    True        True  False  False  False   \n",
       "12    False       True  False  False    True       False  False  False  False   \n",
       "13    False      False   True   True    True       False  False  False  False   \n",
       "14     True      False   True  False   False       False  False  False  False   \n",
       "15    False      False  False  False    True        True  False  False  False   \n",
       "16    False       True   True  False   False       False  False  False  False   \n",
       "17    False      False   True  False    True       False  False  False  False   \n",
       "18    False      False   True  False    True       False  False  False  False   \n",
       "19    False      False  False  False    True        True  False  False   True   \n",
       "\n",
       "    SUGER    TEA  \n",
       "0   False  False  \n",
       "1   False  False  \n",
       "2   False   True  \n",
       "3   False  False  \n",
       "4   False   True  \n",
       "5   False   True  \n",
       "6   False   True  \n",
       "7   False   True  \n",
       "8   False   True  \n",
       "9   False  False  \n",
       "10  False  False  \n",
       "11  False  False  \n",
       "12   True  False  \n",
       "13  False  False  \n",
       "14   True  False  \n",
       "15   True  False  \n",
       "16   True  False  \n",
       "17   True  False  \n",
       "18   True  False  \n",
       "19  False   True  "
      ],
      "text/html": "<div>\n<style scoped>\n    .dataframe tbody tr th:only-of-type {\n        vertical-align: middle;\n    }\n\n    .dataframe tbody tr th {\n        vertical-align: top;\n    }\n\n    .dataframe thead th {\n        text-align: right;\n    }\n</style>\n<table border=\"1\" class=\"dataframe\">\n  <thead>\n    <tr style=\"text-align: right;\">\n      <th></th>\n      <th>BISCUIT</th>\n      <th>BOURNVITA</th>\n      <th>BREAD</th>\n      <th>COCK</th>\n      <th>COFFEE</th>\n      <th>CORNFLAKES</th>\n      <th>JAM</th>\n      <th>MAGGI</th>\n      <th>MILK</th>\n      <th>SUGER</th>\n      <th>TEA</th>\n    </tr>\n  </thead>\n  <tbody>\n    <tr>\n      <th>0</th>\n      <td>True</td>\n      <td>False</td>\n      <td>True</td>\n      <td>False</td>\n      <td>False</td>\n      <td>False</td>\n      <td>False</td>\n      <td>False</td>\n      <td>True</td>\n      <td>False</td>\n      <td>False</td>\n    </tr>\n    <tr>\n      <th>1</th>\n      <td>True</td>\n      <td>False</td>\n      <td>True</td>\n      <td>False</td>\n      <td>False</td>\n      <td>True</td>\n      <td>False</td>\n      <td>False</td>\n      <td>True</td>\n      <td>False</td>\n      <td>False</td>\n    </tr>\n    <tr>\n      <th>2</th>\n      <td>False</td>\n      <td>True</td>\n      <td>True</td>\n      <td>False</td>\n      <td>False</td>\n      <td>False</td>\n      <td>False</td>\n      <td>False</td>\n      <td>False</td>\n      <td>False</td>\n      <td>True</td>\n    </tr>\n    <tr>\n      <th>3</th>\n      <td>False</td>\n      <td>False</td>\n      <td>True</td>\n      <td>False</td>\n      <td>False</td>\n      <td>False</td>\n      <td>True</td>\n      <td>True</td>\n      <td>True</td>\n      <td>False</td>\n      <td>False</td>\n    </tr>\n    <tr>\n      <th>4</th>\n      <td>True</td>\n      <td>False</td>\n      <td>False</td>\n      <td>False</td>\n      <td>False</td>\n      <td>False</td>\n      <td>False</td>\n      <td>True</td>\n      <td>False</td>\n      <td>False</td>\n      <td>True</td>\n    </tr>\n    <tr>\n      <th>5</th>\n      <td>False</td>\n      <td>True</td>\n      <td>True</td>\n      <td>False</td>\n      <td>False</td>\n      <td>False</td>\n      <td>False</td>\n      <td>False</td>\n      <td>False</td>\n      <td>False</td>\n      <td>True</td>\n    </tr>\n    <tr>\n      <th>6</th>\n      <td>False</td>\n      <td>False</td>\n      <td>False</td>\n      <td>False</td>\n      <td>False</td>\n      <td>True</td>\n      <td>False</td>\n      <td>True</td>\n      <td>False</td>\n      <td>False</td>\n      <td>True</td>\n    </tr>\n    <tr>\n      <th>7</th>\n      <td>True</td>\n      <td>False</td>\n      <td>True</td>\n      <td>False</td>\n      <td>False</td>\n      <td>False</td>\n      <td>False</td>\n      <td>True</td>\n      <td>False</td>\n      <td>False</td>\n      <td>True</td>\n    </tr>\n    <tr>\n      <th>8</th>\n      <td>False</td>\n      <td>False</td>\n      <td>True</td>\n      <td>False</td>\n      <td>False</td>\n      <td>False</td>\n      <td>True</td>\n      <td>True</td>\n      <td>False</td>\n      <td>False</td>\n      <td>True</td>\n    </tr>\n    <tr>\n      <th>9</th>\n      <td>False</td>\n      <td>False</td>\n      <td>True</td>\n      <td>False</td>\n      <td>False</td>\n      <td>False</td>\n      <td>False</td>\n      <td>False</td>\n      <td>True</td>\n      <td>False</td>\n      <td>False</td>\n    </tr>\n    <tr>\n      <th>10</th>\n      <td>True</td>\n      <td>False</td>\n      <td>False</td>\n      <td>True</td>\n      <td>True</td>\n      <td>True</td>\n      <td>False</td>\n      <td>False</td>\n      <td>False</td>\n      <td>False</td>\n      <td>False</td>\n    </tr>\n    <tr>\n      <th>11</th>\n      <td>True</td>\n      <td>False</td>\n      <td>False</td>\n      <td>True</td>\n      <td>True</td>\n      <td>True</td>\n      <td>False</td>\n      <td>False</td>\n      <td>False</td>\n      <td>False</td>\n      <td>False</td>\n    </tr>\n    <tr>\n      <th>12</th>\n      <td>False</td>\n      <td>True</td>\n      <td>False</td>\n      <td>False</td>\n      <td>True</td>\n      <td>False</td>\n      <td>False</td>\n      <td>False</td>\n      <td>False</td>\n      <td>True</td>\n      <td>False</td>\n    </tr>\n    <tr>\n      <th>13</th>\n      <td>False</td>\n      <td>False</td>\n      <td>True</td>\n      <td>True</td>\n      <td>True</td>\n      <td>False</td>\n      <td>False</td>\n      <td>False</td>\n      <td>False</td>\n      <td>False</td>\n      <td>False</td>\n    </tr>\n    <tr>\n      <th>14</th>\n      <td>True</td>\n      <td>False</td>\n      <td>True</td>\n      <td>False</td>\n      <td>False</td>\n      <td>False</td>\n      <td>False</td>\n      <td>False</td>\n      <td>False</td>\n      <td>True</td>\n      <td>False</td>\n    </tr>\n    <tr>\n      <th>15</th>\n      <td>False</td>\n      <td>False</td>\n      <td>False</td>\n      <td>False</td>\n      <td>True</td>\n      <td>True</td>\n      <td>False</td>\n      <td>False</td>\n      <td>False</td>\n      <td>True</td>\n      <td>False</td>\n    </tr>\n    <tr>\n      <th>16</th>\n      <td>False</td>\n      <td>True</td>\n      <td>True</td>\n      <td>False</td>\n      <td>False</td>\n      <td>False</td>\n      <td>False</td>\n      <td>False</td>\n      <td>False</td>\n      <td>True</td>\n      <td>False</td>\n    </tr>\n    <tr>\n      <th>17</th>\n      <td>False</td>\n      <td>False</td>\n      <td>True</td>\n      <td>False</td>\n      <td>True</td>\n      <td>False</td>\n      <td>False</td>\n      <td>False</td>\n      <td>False</td>\n      <td>True</td>\n      <td>False</td>\n    </tr>\n    <tr>\n      <th>18</th>\n      <td>False</td>\n      <td>False</td>\n      <td>True</td>\n      <td>False</td>\n      <td>True</td>\n      <td>False</td>\n      <td>False</td>\n      <td>False</td>\n      <td>False</td>\n      <td>True</td>\n      <td>False</td>\n    </tr>\n    <tr>\n      <th>19</th>\n      <td>False</td>\n      <td>False</td>\n      <td>False</td>\n      <td>False</td>\n      <td>True</td>\n      <td>True</td>\n      <td>False</td>\n      <td>False</td>\n      <td>True</td>\n      <td>False</td>\n      <td>True</td>\n    </tr>\n  </tbody>\n</table>\n</div>"
     },
     "metadata": {},
     "execution_count": 3
    }
   ],
   "source": [
    "te = TransactionEncoder()\n",
    "te_data = te.fit(data).transform(data)\n",
    "df = pd.DataFrame(te_data, columns=te.columns_mapping_)\n",
    "df"
   ]
  },
  {
   "cell_type": "code",
   "execution_count": 4,
   "metadata": {},
   "outputs": [
    {
     "output_type": "stream",
     "name": "stdout",
     "text": [
      "<class 'pandas.core.frame.DataFrame'>\nRangeIndex: 20 entries, 0 to 19\nData columns (total 11 columns):\n #   Column      Non-Null Count  Dtype\n---  ------      --------------  -----\n 0   BISCUIT     20 non-null     bool \n 1   BOURNVITA   20 non-null     bool \n 2   BREAD       20 non-null     bool \n 3   COCK        20 non-null     bool \n 4   COFFEE      20 non-null     bool \n 5   CORNFLAKES  20 non-null     bool \n 6   JAM         20 non-null     bool \n 7   MAGGI       20 non-null     bool \n 8   MILK        20 non-null     bool \n 9   SUGER       20 non-null     bool \n 10  TEA         20 non-null     bool \ndtypes: bool(11)\nmemory usage: 348.0 bytes\n"
     ]
    }
   ],
   "source": [
    "df.info()"
   ]
  },
  {
   "cell_type": "code",
   "execution_count": 5,
   "metadata": {
    "tags": []
   },
   "outputs": [
    {
     "output_type": "stream",
     "name": "stdout",
     "text": [
      "Processing 42 combinations | Sampling itemset size 3\n"
     ]
    },
    {
     "output_type": "execute_result",
     "data": {
      "text/plain": [
       "    support              itemsets\n",
       "0      0.35             (BISCUIT)\n",
       "1      0.20           (BOURNVITA)\n",
       "2      0.65               (BREAD)\n",
       "3      0.40              (COFFEE)\n",
       "4      0.30          (CORNFLAKES)\n",
       "5      0.25               (MAGGI)\n",
       "6      0.25                (MILK)\n",
       "7      0.30               (SUGER)\n",
       "8      0.35                 (TEA)\n",
       "9      0.20      (BREAD, BISCUIT)\n",
       "10     0.20         (BREAD, MILK)\n",
       "11     0.20        (SUGER, BREAD)\n",
       "12     0.20          (TEA, BREAD)\n",
       "13     0.20  (COFFEE, CORNFLAKES)\n",
       "14     0.20       (COFFEE, SUGER)\n",
       "15     0.20          (TEA, MAGGI)"
      ],
      "text/html": "<div>\n<style scoped>\n    .dataframe tbody tr th:only-of-type {\n        vertical-align: middle;\n    }\n\n    .dataframe tbody tr th {\n        vertical-align: top;\n    }\n\n    .dataframe thead th {\n        text-align: right;\n    }\n</style>\n<table border=\"1\" class=\"dataframe\">\n  <thead>\n    <tr style=\"text-align: right;\">\n      <th></th>\n      <th>support</th>\n      <th>itemsets</th>\n    </tr>\n  </thead>\n  <tbody>\n    <tr>\n      <th>0</th>\n      <td>0.35</td>\n      <td>(BISCUIT)</td>\n    </tr>\n    <tr>\n      <th>1</th>\n      <td>0.20</td>\n      <td>(BOURNVITA)</td>\n    </tr>\n    <tr>\n      <th>2</th>\n      <td>0.65</td>\n      <td>(BREAD)</td>\n    </tr>\n    <tr>\n      <th>3</th>\n      <td>0.40</td>\n      <td>(COFFEE)</td>\n    </tr>\n    <tr>\n      <th>4</th>\n      <td>0.30</td>\n      <td>(CORNFLAKES)</td>\n    </tr>\n    <tr>\n      <th>5</th>\n      <td>0.25</td>\n      <td>(MAGGI)</td>\n    </tr>\n    <tr>\n      <th>6</th>\n      <td>0.25</td>\n      <td>(MILK)</td>\n    </tr>\n    <tr>\n      <th>7</th>\n      <td>0.30</td>\n      <td>(SUGER)</td>\n    </tr>\n    <tr>\n      <th>8</th>\n      <td>0.35</td>\n      <td>(TEA)</td>\n    </tr>\n    <tr>\n      <th>9</th>\n      <td>0.20</td>\n      <td>(BREAD, BISCUIT)</td>\n    </tr>\n    <tr>\n      <th>10</th>\n      <td>0.20</td>\n      <td>(BREAD, MILK)</td>\n    </tr>\n    <tr>\n      <th>11</th>\n      <td>0.20</td>\n      <td>(SUGER, BREAD)</td>\n    </tr>\n    <tr>\n      <th>12</th>\n      <td>0.20</td>\n      <td>(TEA, BREAD)</td>\n    </tr>\n    <tr>\n      <th>13</th>\n      <td>0.20</td>\n      <td>(COFFEE, CORNFLAKES)</td>\n    </tr>\n    <tr>\n      <th>14</th>\n      <td>0.20</td>\n      <td>(COFFEE, SUGER)</td>\n    </tr>\n    <tr>\n      <th>15</th>\n      <td>0.20</td>\n      <td>(TEA, MAGGI)</td>\n    </tr>\n  </tbody>\n</table>\n</div>"
     },
     "metadata": {},
     "execution_count": 5
    }
   ],
   "source": [
    "freq_items = apriori(df, min_support=0.20, use_colnames=True, verbose=1)\n",
    "freq_items"
   ]
  },
  {
   "cell_type": "code",
   "execution_count": 6,
   "metadata": {},
   "outputs": [
    {
     "output_type": "execute_result",
     "data": {
      "text/plain": [
       "    antecedents consequents  antecedent support  consequent support  support  \\\n",
       "0        (MILK)     (BREAD)                0.25                0.65      0.2   \n",
       "1       (SUGER)     (BREAD)                0.30                0.65      0.2   \n",
       "2  (CORNFLAKES)    (COFFEE)                0.30                0.40      0.2   \n",
       "3       (SUGER)    (COFFEE)                0.30                0.40      0.2   \n",
       "4       (MAGGI)       (TEA)                0.25                0.35      0.2   \n",
       "\n",
       "   confidence      lift  leverage  conviction  \n",
       "0    0.800000  1.230769    0.0375        1.75  \n",
       "1    0.666667  1.025641    0.0050        1.05  \n",
       "2    0.666667  1.666667    0.0800        1.80  \n",
       "3    0.666667  1.666667    0.0800        1.80  \n",
       "4    0.800000  2.285714    0.1125        3.25  "
      ],
      "text/html": "<div>\n<style scoped>\n    .dataframe tbody tr th:only-of-type {\n        vertical-align: middle;\n    }\n\n    .dataframe tbody tr th {\n        vertical-align: top;\n    }\n\n    .dataframe thead th {\n        text-align: right;\n    }\n</style>\n<table border=\"1\" class=\"dataframe\">\n  <thead>\n    <tr style=\"text-align: right;\">\n      <th></th>\n      <th>antecedents</th>\n      <th>consequents</th>\n      <th>antecedent support</th>\n      <th>consequent support</th>\n      <th>support</th>\n      <th>confidence</th>\n      <th>lift</th>\n      <th>leverage</th>\n      <th>conviction</th>\n    </tr>\n  </thead>\n  <tbody>\n    <tr>\n      <th>0</th>\n      <td>(MILK)</td>\n      <td>(BREAD)</td>\n      <td>0.25</td>\n      <td>0.65</td>\n      <td>0.2</td>\n      <td>0.800000</td>\n      <td>1.230769</td>\n      <td>0.0375</td>\n      <td>1.75</td>\n    </tr>\n    <tr>\n      <th>1</th>\n      <td>(SUGER)</td>\n      <td>(BREAD)</td>\n      <td>0.30</td>\n      <td>0.65</td>\n      <td>0.2</td>\n      <td>0.666667</td>\n      <td>1.025641</td>\n      <td>0.0050</td>\n      <td>1.05</td>\n    </tr>\n    <tr>\n      <th>2</th>\n      <td>(CORNFLAKES)</td>\n      <td>(COFFEE)</td>\n      <td>0.30</td>\n      <td>0.40</td>\n      <td>0.2</td>\n      <td>0.666667</td>\n      <td>1.666667</td>\n      <td>0.0800</td>\n      <td>1.80</td>\n    </tr>\n    <tr>\n      <th>3</th>\n      <td>(SUGER)</td>\n      <td>(COFFEE)</td>\n      <td>0.30</td>\n      <td>0.40</td>\n      <td>0.2</td>\n      <td>0.666667</td>\n      <td>1.666667</td>\n      <td>0.0800</td>\n      <td>1.80</td>\n    </tr>\n    <tr>\n      <th>4</th>\n      <td>(MAGGI)</td>\n      <td>(TEA)</td>\n      <td>0.25</td>\n      <td>0.35</td>\n      <td>0.2</td>\n      <td>0.800000</td>\n      <td>2.285714</td>\n      <td>0.1125</td>\n      <td>3.25</td>\n    </tr>\n  </tbody>\n</table>\n</div>"
     },
     "metadata": {},
     "execution_count": 6
    }
   ],
   "source": [
    "df_ar = association_rules(freq_items, metric =\"confidence\", min_threshold=0.6)\n",
    "df_ar"
   ]
  },
  {
   "cell_type": "code",
   "execution_count": 10,
   "metadata": {},
   "outputs": [
    {
     "output_type": "execute_result",
     "data": {
      "text/plain": [
       "  antecedents consequents  antecedent support  consequent support  support  \\\n",
       "0      (MILK)     (BREAD)                0.25                0.65      0.2   \n",
       "4     (MAGGI)       (TEA)                0.25                0.35      0.2   \n",
       "\n",
       "   confidence      lift  leverage  conviction  \n",
       "0         0.8  1.230769    0.0375        1.75  \n",
       "4         0.8  2.285714    0.1125        3.25  "
      ],
      "text/html": "<div>\n<style scoped>\n    .dataframe tbody tr th:only-of-type {\n        vertical-align: middle;\n    }\n\n    .dataframe tbody tr th {\n        vertical-align: top;\n    }\n\n    .dataframe thead th {\n        text-align: right;\n    }\n</style>\n<table border=\"1\" class=\"dataframe\">\n  <thead>\n    <tr style=\"text-align: right;\">\n      <th></th>\n      <th>antecedents</th>\n      <th>consequents</th>\n      <th>antecedent support</th>\n      <th>consequent support</th>\n      <th>support</th>\n      <th>confidence</th>\n      <th>lift</th>\n      <th>leverage</th>\n      <th>conviction</th>\n    </tr>\n  </thead>\n  <tbody>\n    <tr>\n      <th>0</th>\n      <td>(MILK)</td>\n      <td>(BREAD)</td>\n      <td>0.25</td>\n      <td>0.65</td>\n      <td>0.2</td>\n      <td>0.8</td>\n      <td>1.230769</td>\n      <td>0.0375</td>\n      <td>1.75</td>\n    </tr>\n    <tr>\n      <th>4</th>\n      <td>(MAGGI)</td>\n      <td>(TEA)</td>\n      <td>0.25</td>\n      <td>0.35</td>\n      <td>0.2</td>\n      <td>0.8</td>\n      <td>2.285714</td>\n      <td>0.1125</td>\n      <td>3.25</td>\n    </tr>\n  </tbody>\n</table>\n</div>"
     },
     "metadata": {},
     "execution_count": 10
    }
   ],
   "source": [
    "df_ar[(df_ar.support < 0.4) & (df_ar.confidence > 0.7)]"
   ]
  },
  {
   "cell_type": "code",
   "execution_count": 11,
   "metadata": {},
   "outputs": [
    {
     "output_type": "execute_result",
     "data": {
      "text/plain": [
       "0.8"
      ]
     },
     "metadata": {},
     "execution_count": 11
    }
   ],
   "source": [
    "conf_max = df_ar['confidence'].max()\n",
    "conf_max"
   ]
  }
 ],
 "metadata": {
  "kernelspec": {
   "display_name": "Python 3",
   "language": "python",
   "name": "python3"
  },
  "language_info": {
   "codemirror_mode": {
    "name": "ipython",
    "version": 3
   },
   "file_extension": ".py",
   "mimetype": "text/x-python",
   "name": "python",
   "nbconvert_exporter": "python",
   "pygments_lexer": "ipython3",
   "version": "3.7.9-final"
  }
 },
 "nbformat": 4,
 "nbformat_minor": 4
}