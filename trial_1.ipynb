{
 "cells": [
  {
   "source": [
    "# Association Analysis"
   ],
   "cell_type": "markdown",
   "metadata": {}
  },
  {
   "cell_type": "markdown",
   "metadata": {},
   "source": [
    "## Apriori Algorithm\n",
    "\n",
    "\n",
    "Apriori algorithm is a method used to reveal product associations from user purchases. It provides the opportunity to see the association of products purchased according to a threshold value to be determined.\n",
    "  \n",
    "Support(X, Y) = Freq(X, Y) / N -- (The probability of X and Y are seen together)  \n",
    "Confidence(X, Y) = Freq(X, Y) / Freq(X) -- (Probability of selling product Y when product X is sold)  \n",
    "Lift = Support(X, Y) / (Support(X) * Support(Y)) -- X purchases increase sales of Y Lift times more"
   ]
  },
  {
   "cell_type": "code",
   "execution_count": 1,
   "metadata": {},
   "outputs": [],
   "source": [
    "import pandas as pd\n",
    "import numpy as np\n",
    "from mlxtend.frequent_patterns import apriori, association_rules\n",
    "from mlxtend.preprocessing import TransactionEncoder"
   ]
  },
  {
   "cell_type": "code",
   "execution_count": 2,
   "metadata": {},
   "outputs": [
    {
     "output_type": "execute_result",
     "data": {
      "text/plain": [
       "        0       1     2       3       4       5       6\n",
       "0   Bread    Wine  Eggs    Meat  Cheese  Pencil  Diaper\n",
       "1   Bread  Cheese  Meat  Diaper    Wine    Milk  Pencil\n",
       "2  Cheese    Meat  Eggs    Milk    Wine     NaN     NaN\n",
       "3  Cheese    Meat  Eggs    Milk    Wine     NaN     NaN\n",
       "4    Meat  Pencil  Wine     NaN     NaN     NaN     NaN"
      ],
      "text/html": "<div>\n<style scoped>\n    .dataframe tbody tr th:only-of-type {\n        vertical-align: middle;\n    }\n\n    .dataframe tbody tr th {\n        vertical-align: top;\n    }\n\n    .dataframe thead th {\n        text-align: right;\n    }\n</style>\n<table border=\"1\" class=\"dataframe\">\n  <thead>\n    <tr style=\"text-align: right;\">\n      <th></th>\n      <th>0</th>\n      <th>1</th>\n      <th>2</th>\n      <th>3</th>\n      <th>4</th>\n      <th>5</th>\n      <th>6</th>\n    </tr>\n  </thead>\n  <tbody>\n    <tr>\n      <th>0</th>\n      <td>Bread</td>\n      <td>Wine</td>\n      <td>Eggs</td>\n      <td>Meat</td>\n      <td>Cheese</td>\n      <td>Pencil</td>\n      <td>Diaper</td>\n    </tr>\n    <tr>\n      <th>1</th>\n      <td>Bread</td>\n      <td>Cheese</td>\n      <td>Meat</td>\n      <td>Diaper</td>\n      <td>Wine</td>\n      <td>Milk</td>\n      <td>Pencil</td>\n    </tr>\n    <tr>\n      <th>2</th>\n      <td>Cheese</td>\n      <td>Meat</td>\n      <td>Eggs</td>\n      <td>Milk</td>\n      <td>Wine</td>\n      <td>NaN</td>\n      <td>NaN</td>\n    </tr>\n    <tr>\n      <th>3</th>\n      <td>Cheese</td>\n      <td>Meat</td>\n      <td>Eggs</td>\n      <td>Milk</td>\n      <td>Wine</td>\n      <td>NaN</td>\n      <td>NaN</td>\n    </tr>\n    <tr>\n      <th>4</th>\n      <td>Meat</td>\n      <td>Pencil</td>\n      <td>Wine</td>\n      <td>NaN</td>\n      <td>NaN</td>\n      <td>NaN</td>\n      <td>NaN</td>\n    </tr>\n  </tbody>\n</table>\n</div>"
     },
     "metadata": {},
     "execution_count": 2
    }
   ],
   "source": [
    "df = pd.read_csv('retail_dataset.csv') # load the dataset\n",
    "df.head() # We can actually call the rows of this dataset as shopping basket and columns as products that were purchased"
   ]
  },
  {
   "cell_type": "code",
   "execution_count": 3,
   "metadata": {},
   "outputs": [
    {
     "output_type": "stream",
     "name": "stdout",
     "text": [
      "<class 'pandas.core.frame.DataFrame'>\nRangeIndex: 315 entries, 0 to 314\nData columns (total 7 columns):\n #   Column  Non-Null Count  Dtype \n---  ------  --------------  ----- \n 0   0       315 non-null    object\n 1   1       285 non-null    object\n 2   2       245 non-null    object\n 3   3       187 non-null    object\n 4   4       133 non-null    object\n 5   5       71 non-null     object\n 6   6       41 non-null     object\ndtypes: object(7)\nmemory usage: 17.4+ KB\n"
     ]
    }
   ],
   "source": [
    "df.info()"
   ]
  },
  {
   "cell_type": "code",
   "execution_count": 8,
   "metadata": {},
   "outputs": [
    {
     "output_type": "execute_result",
     "data": {
      "text/plain": [
       "{'Milk': 0,\n",
       " 'Bagel': 0,\n",
       " 'Pencil': 1,\n",
       " 'Cheese': 1,\n",
       " 'Wine': 1,\n",
       " 'Eggs': 1,\n",
       " 'Diaper': 1,\n",
       " 'Meat': 1,\n",
       " 'Bread': 1}"
      ]
     },
     "metadata": {},
     "execution_count": 8
    }
   ],
   "source": [
    "# one-hot encoding to make the dataset useful for apriori algorithm\n",
    "items = (df['0'].unique()) # get list of unique products in the dataset\n",
    "encoded_vals = []\n",
    "for index, row in df.iterrows(): \n",
    "    labels = {}\n",
    "    uncommons = list(set(items) - set(row))\n",
    "    commons = list(set(items).intersection(row))\n",
    "    for uc in uncommons:\n",
    "        labels[uc] = 0\n",
    "    for com in commons:\n",
    "        labels[com] = 1\n",
    "    encoded_vals.append(labels)\n",
    "\n",
    "encoded_vals[0]"
   ]
  },
  {
   "cell_type": "code",
   "execution_count": 9,
   "metadata": {},
   "outputs": [
    {
     "output_type": "execute_result",
     "data": {
      "text/plain": [
       "   Milk  Bagel  Pencil  Cheese  Wine  Eggs  Diaper  Meat  Bread\n",
       "0     0      0       1       1     1     1       1     1      1\n",
       "1     1      0       1       1     1     0       1     1      1\n",
       "2     1      0       0       1     1     1       0     1      0\n",
       "3     1      0       0       1     1     1       0     1      0\n",
       "4     0      0       1       0     1     0       0     1      0"
      ],
      "text/html": "<div>\n<style scoped>\n    .dataframe tbody tr th:only-of-type {\n        vertical-align: middle;\n    }\n\n    .dataframe tbody tr th {\n        vertical-align: top;\n    }\n\n    .dataframe thead th {\n        text-align: right;\n    }\n</style>\n<table border=\"1\" class=\"dataframe\">\n  <thead>\n    <tr style=\"text-align: right;\">\n      <th></th>\n      <th>Milk</th>\n      <th>Bagel</th>\n      <th>Pencil</th>\n      <th>Cheese</th>\n      <th>Wine</th>\n      <th>Eggs</th>\n      <th>Diaper</th>\n      <th>Meat</th>\n      <th>Bread</th>\n    </tr>\n  </thead>\n  <tbody>\n    <tr>\n      <th>0</th>\n      <td>0</td>\n      <td>0</td>\n      <td>1</td>\n      <td>1</td>\n      <td>1</td>\n      <td>1</td>\n      <td>1</td>\n      <td>1</td>\n      <td>1</td>\n    </tr>\n    <tr>\n      <th>1</th>\n      <td>1</td>\n      <td>0</td>\n      <td>1</td>\n      <td>1</td>\n      <td>1</td>\n      <td>0</td>\n      <td>1</td>\n      <td>1</td>\n      <td>1</td>\n    </tr>\n    <tr>\n      <th>2</th>\n      <td>1</td>\n      <td>0</td>\n      <td>0</td>\n      <td>1</td>\n      <td>1</td>\n      <td>1</td>\n      <td>0</td>\n      <td>1</td>\n      <td>0</td>\n    </tr>\n    <tr>\n      <th>3</th>\n      <td>1</td>\n      <td>0</td>\n      <td>0</td>\n      <td>1</td>\n      <td>1</td>\n      <td>1</td>\n      <td>0</td>\n      <td>1</td>\n      <td>0</td>\n    </tr>\n    <tr>\n      <th>4</th>\n      <td>0</td>\n      <td>0</td>\n      <td>1</td>\n      <td>0</td>\n      <td>1</td>\n      <td>0</td>\n      <td>0</td>\n      <td>1</td>\n      <td>0</td>\n    </tr>\n  </tbody>\n</table>\n</div>"
     },
     "metadata": {},
     "execution_count": 9
    }
   ],
   "source": [
    "ohe_df = pd.DataFrame(encoded_vals) # transform the encoded values to a pandas dataframe\n",
    "ohe_df.head()"
   ]
  },
  {
   "cell_type": "code",
   "execution_count": 13,
   "metadata": {},
   "outputs": [
    {
     "output_type": "stream",
     "name": "stdout",
     "text": [
      "Processing 138 combinations | Sampling itemset size 3\n"
     ]
    }
   ],
   "source": [
    "freq_items = apriori(ohe_df, min_support=0.2, use_colnames=True, verbose=1) # get the frequencies of items"
   ]
  },
  {
   "cell_type": "code",
   "execution_count": 14,
   "metadata": {},
   "outputs": [
    {
     "output_type": "execute_result",
     "data": {
      "text/plain": [
       "     support              itemsets\n",
       "0   0.501587                (Milk)\n",
       "1   0.425397               (Bagel)\n",
       "2   0.361905              (Pencil)\n",
       "3   0.501587              (Cheese)\n",
       "4   0.438095                (Wine)\n",
       "5   0.438095                (Eggs)\n",
       "6   0.406349              (Diaper)\n",
       "7   0.476190                (Meat)\n",
       "8   0.504762               (Bread)\n",
       "9   0.225397         (Milk, Bagel)\n",
       "10  0.304762        (Milk, Cheese)\n",
       "11  0.219048          (Milk, Wine)\n",
       "12  0.244444          (Milk, Eggs)\n",
       "13  0.244444          (Milk, Meat)\n",
       "14  0.279365         (Milk, Bread)\n",
       "15  0.279365        (Bread, Bagel)\n",
       "16  0.200000      (Pencil, Cheese)\n",
       "17  0.200000        (Pencil, Wine)\n",
       "18  0.200000       (Pencil, Bread)\n",
       "19  0.269841        (Cheese, Wine)\n",
       "20  0.298413        (Cheese, Eggs)\n",
       "21  0.200000      (Cheese, Diaper)\n",
       "22  0.323810        (Cheese, Meat)\n",
       "23  0.238095       (Cheese, Bread)\n",
       "24  0.241270          (Eggs, Wine)\n",
       "25  0.234921        (Wine, Diaper)\n",
       "26  0.250794          (Meat, Wine)\n",
       "27  0.244444         (Wine, Bread)\n",
       "28  0.266667          (Eggs, Meat)\n",
       "29  0.231746       (Diaper, Bread)\n",
       "30  0.206349         (Meat, Bread)\n",
       "31  0.203175  (Milk, Meat, Cheese)\n",
       "32  0.215873  (Cheese, Eggs, Meat)"
      ],
      "text/html": "<div>\n<style scoped>\n    .dataframe tbody tr th:only-of-type {\n        vertical-align: middle;\n    }\n\n    .dataframe tbody tr th {\n        vertical-align: top;\n    }\n\n    .dataframe thead th {\n        text-align: right;\n    }\n</style>\n<table border=\"1\" class=\"dataframe\">\n  <thead>\n    <tr style=\"text-align: right;\">\n      <th></th>\n      <th>support</th>\n      <th>itemsets</th>\n    </tr>\n  </thead>\n  <tbody>\n    <tr>\n      <th>0</th>\n      <td>0.501587</td>\n      <td>(Milk)</td>\n    </tr>\n    <tr>\n      <th>1</th>\n      <td>0.425397</td>\n      <td>(Bagel)</td>\n    </tr>\n    <tr>\n      <th>2</th>\n      <td>0.361905</td>\n      <td>(Pencil)</td>\n    </tr>\n    <tr>\n      <th>3</th>\n      <td>0.501587</td>\n      <td>(Cheese)</td>\n    </tr>\n    <tr>\n      <th>4</th>\n      <td>0.438095</td>\n      <td>(Wine)</td>\n    </tr>\n    <tr>\n      <th>5</th>\n      <td>0.438095</td>\n      <td>(Eggs)</td>\n    </tr>\n    <tr>\n      <th>6</th>\n      <td>0.406349</td>\n      <td>(Diaper)</td>\n    </tr>\n    <tr>\n      <th>7</th>\n      <td>0.476190</td>\n      <td>(Meat)</td>\n    </tr>\n    <tr>\n      <th>8</th>\n      <td>0.504762</td>\n      <td>(Bread)</td>\n    </tr>\n    <tr>\n      <th>9</th>\n      <td>0.225397</td>\n      <td>(Milk, Bagel)</td>\n    </tr>\n    <tr>\n      <th>10</th>\n      <td>0.304762</td>\n      <td>(Milk, Cheese)</td>\n    </tr>\n    <tr>\n      <th>11</th>\n      <td>0.219048</td>\n      <td>(Milk, Wine)</td>\n    </tr>\n    <tr>\n      <th>12</th>\n      <td>0.244444</td>\n      <td>(Milk, Eggs)</td>\n    </tr>\n    <tr>\n      <th>13</th>\n      <td>0.244444</td>\n      <td>(Milk, Meat)</td>\n    </tr>\n    <tr>\n      <th>14</th>\n      <td>0.279365</td>\n      <td>(Milk, Bread)</td>\n    </tr>\n    <tr>\n      <th>15</th>\n      <td>0.279365</td>\n      <td>(Bread, Bagel)</td>\n    </tr>\n    <tr>\n      <th>16</th>\n      <td>0.200000</td>\n      <td>(Pencil, Cheese)</td>\n    </tr>\n    <tr>\n      <th>17</th>\n      <td>0.200000</td>\n      <td>(Pencil, Wine)</td>\n    </tr>\n    <tr>\n      <th>18</th>\n      <td>0.200000</td>\n      <td>(Pencil, Bread)</td>\n    </tr>\n    <tr>\n      <th>19</th>\n      <td>0.269841</td>\n      <td>(Cheese, Wine)</td>\n    </tr>\n    <tr>\n      <th>20</th>\n      <td>0.298413</td>\n      <td>(Cheese, Eggs)</td>\n    </tr>\n    <tr>\n      <th>21</th>\n      <td>0.200000</td>\n      <td>(Cheese, Diaper)</td>\n    </tr>\n    <tr>\n      <th>22</th>\n      <td>0.323810</td>\n      <td>(Cheese, Meat)</td>\n    </tr>\n    <tr>\n      <th>23</th>\n      <td>0.238095</td>\n      <td>(Cheese, Bread)</td>\n    </tr>\n    <tr>\n      <th>24</th>\n      <td>0.241270</td>\n      <td>(Eggs, Wine)</td>\n    </tr>\n    <tr>\n      <th>25</th>\n      <td>0.234921</td>\n      <td>(Wine, Diaper)</td>\n    </tr>\n    <tr>\n      <th>26</th>\n      <td>0.250794</td>\n      <td>(Meat, Wine)</td>\n    </tr>\n    <tr>\n      <th>27</th>\n      <td>0.244444</td>\n      <td>(Wine, Bread)</td>\n    </tr>\n    <tr>\n      <th>28</th>\n      <td>0.266667</td>\n      <td>(Eggs, Meat)</td>\n    </tr>\n    <tr>\n      <th>29</th>\n      <td>0.231746</td>\n      <td>(Diaper, Bread)</td>\n    </tr>\n    <tr>\n      <th>30</th>\n      <td>0.206349</td>\n      <td>(Meat, Bread)</td>\n    </tr>\n    <tr>\n      <th>31</th>\n      <td>0.203175</td>\n      <td>(Milk, Meat, Cheese)</td>\n    </tr>\n    <tr>\n      <th>32</th>\n      <td>0.215873</td>\n      <td>(Cheese, Eggs, Meat)</td>\n    </tr>\n  </tbody>\n</table>\n</div>"
     },
     "metadata": {},
     "execution_count": 14
    }
   ],
   "source": [
    "freq_items"
   ]
  },
  {
   "cell_type": "code",
   "execution_count": 19,
   "metadata": {},
   "outputs": [
    {
     "data": {
      "text/html": [
       "<div>\n",
       "<style scoped>\n",
       "    .dataframe tbody tr th:only-of-type {\n",
       "        vertical-align: middle;\n",
       "    }\n",
       "\n",
       "    .dataframe tbody tr th {\n",
       "        vertical-align: top;\n",
       "    }\n",
       "\n",
       "    .dataframe thead th {\n",
       "        text-align: right;\n",
       "    }\n",
       "</style>\n",
       "<table border=\"1\" class=\"dataframe\">\n",
       "  <thead>\n",
       "    <tr style=\"text-align: right;\">\n",
       "      <th></th>\n",
       "      <th>antecedents</th>\n",
       "      <th>consequents</th>\n",
       "      <th>antecedent support</th>\n",
       "      <th>consequent support</th>\n",
       "      <th>support</th>\n",
       "      <th>confidence</th>\n",
       "      <th>lift</th>\n",
       "      <th>leverage</th>\n",
       "      <th>conviction</th>\n",
       "    </tr>\n",
       "  </thead>\n",
       "  <tbody>\n",
       "    <tr>\n",
       "      <th>0</th>\n",
       "      <td>(Bagel)</td>\n",
       "      <td>(Bread)</td>\n",
       "      <td>0.425397</td>\n",
       "      <td>0.504762</td>\n",
       "      <td>0.279365</td>\n",
       "      <td>0.656716</td>\n",
       "      <td>1.301042</td>\n",
       "      <td>0.064641</td>\n",
       "      <td>1.442650</td>\n",
       "    </tr>\n",
       "    <tr>\n",
       "      <th>1</th>\n",
       "      <td>(Cheese)</td>\n",
       "      <td>(Milk)</td>\n",
       "      <td>0.501587</td>\n",
       "      <td>0.501587</td>\n",
       "      <td>0.304762</td>\n",
       "      <td>0.607595</td>\n",
       "      <td>1.211344</td>\n",
       "      <td>0.053172</td>\n",
       "      <td>1.270148</td>\n",
       "    </tr>\n",
       "    <tr>\n",
       "      <th>2</th>\n",
       "      <td>(Milk)</td>\n",
       "      <td>(Cheese)</td>\n",
       "      <td>0.501587</td>\n",
       "      <td>0.501587</td>\n",
       "      <td>0.304762</td>\n",
       "      <td>0.607595</td>\n",
       "      <td>1.211344</td>\n",
       "      <td>0.053172</td>\n",
       "      <td>1.270148</td>\n",
       "    </tr>\n",
       "    <tr>\n",
       "      <th>3</th>\n",
       "      <td>(Wine)</td>\n",
       "      <td>(Cheese)</td>\n",
       "      <td>0.438095</td>\n",
       "      <td>0.501587</td>\n",
       "      <td>0.269841</td>\n",
       "      <td>0.615942</td>\n",
       "      <td>1.227986</td>\n",
       "      <td>0.050098</td>\n",
       "      <td>1.297754</td>\n",
       "    </tr>\n",
       "    <tr>\n",
       "      <th>4</th>\n",
       "      <td>(Eggs)</td>\n",
       "      <td>(Cheese)</td>\n",
       "      <td>0.438095</td>\n",
       "      <td>0.501587</td>\n",
       "      <td>0.298413</td>\n",
       "      <td>0.681159</td>\n",
       "      <td>1.358008</td>\n",
       "      <td>0.078670</td>\n",
       "      <td>1.563203</td>\n",
       "    </tr>\n",
       "    <tr>\n",
       "      <th>5</th>\n",
       "      <td>(Cheese)</td>\n",
       "      <td>(Meat)</td>\n",
       "      <td>0.501587</td>\n",
       "      <td>0.476190</td>\n",
       "      <td>0.323810</td>\n",
       "      <td>0.645570</td>\n",
       "      <td>1.355696</td>\n",
       "      <td>0.084958</td>\n",
       "      <td>1.477891</td>\n",
       "    </tr>\n",
       "    <tr>\n",
       "      <th>6</th>\n",
       "      <td>(Meat)</td>\n",
       "      <td>(Cheese)</td>\n",
       "      <td>0.476190</td>\n",
       "      <td>0.501587</td>\n",
       "      <td>0.323810</td>\n",
       "      <td>0.680000</td>\n",
       "      <td>1.355696</td>\n",
       "      <td>0.084958</td>\n",
       "      <td>1.557540</td>\n",
       "    </tr>\n",
       "    <tr>\n",
       "      <th>7</th>\n",
       "      <td>(Eggs)</td>\n",
       "      <td>(Meat)</td>\n",
       "      <td>0.438095</td>\n",
       "      <td>0.476190</td>\n",
       "      <td>0.266667</td>\n",
       "      <td>0.608696</td>\n",
       "      <td>1.278261</td>\n",
       "      <td>0.058050</td>\n",
       "      <td>1.338624</td>\n",
       "    </tr>\n",
       "    <tr>\n",
       "      <th>8</th>\n",
       "      <td>(Cheese, Meat)</td>\n",
       "      <td>(Milk)</td>\n",
       "      <td>0.323810</td>\n",
       "      <td>0.501587</td>\n",
       "      <td>0.203175</td>\n",
       "      <td>0.627451</td>\n",
       "      <td>1.250931</td>\n",
       "      <td>0.040756</td>\n",
       "      <td>1.337845</td>\n",
       "    </tr>\n",
       "    <tr>\n",
       "      <th>9</th>\n",
       "      <td>(Cheese, Milk)</td>\n",
       "      <td>(Meat)</td>\n",
       "      <td>0.304762</td>\n",
       "      <td>0.476190</td>\n",
       "      <td>0.203175</td>\n",
       "      <td>0.666667</td>\n",
       "      <td>1.400000</td>\n",
       "      <td>0.058050</td>\n",
       "      <td>1.571429</td>\n",
       "    </tr>\n",
       "    <tr>\n",
       "      <th>10</th>\n",
       "      <td>(Meat, Milk)</td>\n",
       "      <td>(Cheese)</td>\n",
       "      <td>0.244444</td>\n",
       "      <td>0.501587</td>\n",
       "      <td>0.203175</td>\n",
       "      <td>0.831169</td>\n",
       "      <td>1.657077</td>\n",
       "      <td>0.080564</td>\n",
       "      <td>2.952137</td>\n",
       "    </tr>\n",
       "    <tr>\n",
       "      <th>11</th>\n",
       "      <td>(Cheese, Meat)</td>\n",
       "      <td>(Eggs)</td>\n",
       "      <td>0.323810</td>\n",
       "      <td>0.438095</td>\n",
       "      <td>0.215873</td>\n",
       "      <td>0.666667</td>\n",
       "      <td>1.521739</td>\n",
       "      <td>0.074014</td>\n",
       "      <td>1.685714</td>\n",
       "    </tr>\n",
       "    <tr>\n",
       "      <th>12</th>\n",
       "      <td>(Cheese, Eggs)</td>\n",
       "      <td>(Meat)</td>\n",
       "      <td>0.298413</td>\n",
       "      <td>0.476190</td>\n",
       "      <td>0.215873</td>\n",
       "      <td>0.723404</td>\n",
       "      <td>1.519149</td>\n",
       "      <td>0.073772</td>\n",
       "      <td>1.893773</td>\n",
       "    </tr>\n",
       "    <tr>\n",
       "      <th>13</th>\n",
       "      <td>(Meat, Eggs)</td>\n",
       "      <td>(Cheese)</td>\n",
       "      <td>0.266667</td>\n",
       "      <td>0.501587</td>\n",
       "      <td>0.215873</td>\n",
       "      <td>0.809524</td>\n",
       "      <td>1.613924</td>\n",
       "      <td>0.082116</td>\n",
       "      <td>2.616667</td>\n",
       "    </tr>\n",
       "  </tbody>\n",
       "</table>\n",
       "</div>"
      ],
      "text/plain": [
       "       antecedents consequents  antecedent support  consequent support  \\\n",
       "0          (Bagel)     (Bread)            0.425397            0.504762   \n",
       "1         (Cheese)      (Milk)            0.501587            0.501587   \n",
       "2           (Milk)    (Cheese)            0.501587            0.501587   \n",
       "3           (Wine)    (Cheese)            0.438095            0.501587   \n",
       "4           (Eggs)    (Cheese)            0.438095            0.501587   \n",
       "5         (Cheese)      (Meat)            0.501587            0.476190   \n",
       "6           (Meat)    (Cheese)            0.476190            0.501587   \n",
       "7           (Eggs)      (Meat)            0.438095            0.476190   \n",
       "8   (Cheese, Meat)      (Milk)            0.323810            0.501587   \n",
       "9   (Cheese, Milk)      (Meat)            0.304762            0.476190   \n",
       "10    (Meat, Milk)    (Cheese)            0.244444            0.501587   \n",
       "11  (Cheese, Meat)      (Eggs)            0.323810            0.438095   \n",
       "12  (Cheese, Eggs)      (Meat)            0.298413            0.476190   \n",
       "13    (Meat, Eggs)    (Cheese)            0.266667            0.501587   \n",
       "\n",
       "     support  confidence      lift  leverage  conviction  \n",
       "0   0.279365    0.656716  1.301042  0.064641    1.442650  \n",
       "1   0.304762    0.607595  1.211344  0.053172    1.270148  \n",
       "2   0.304762    0.607595  1.211344  0.053172    1.270148  \n",
       "3   0.269841    0.615942  1.227986  0.050098    1.297754  \n",
       "4   0.298413    0.681159  1.358008  0.078670    1.563203  \n",
       "5   0.323810    0.645570  1.355696  0.084958    1.477891  \n",
       "6   0.323810    0.680000  1.355696  0.084958    1.557540  \n",
       "7   0.266667    0.608696  1.278261  0.058050    1.338624  \n",
       "8   0.203175    0.627451  1.250931  0.040756    1.337845  \n",
       "9   0.203175    0.666667  1.400000  0.058050    1.571429  \n",
       "10  0.203175    0.831169  1.657077  0.080564    2.952137  \n",
       "11  0.215873    0.666667  1.521739  0.074014    1.685714  \n",
       "12  0.215873    0.723404  1.519149  0.073772    1.893773  \n",
       "13  0.215873    0.809524  1.613924  0.082116    2.616667  "
      ]
     },
     "execution_count": 19,
     "metadata": {},
     "output_type": "execute_result"
    }
   ],
   "source": [
    "association_rules(freq_items, metric=\"confidence\", min_threshold=0.6)"
   ]
  },
  {
   "source": [
    "Some inferences from the table above:  \n",
    "- The probability of selling eggs and meat together is 32%\n",
    "- Probability of selling bread when bagel is sold equals to 65%.  \n",
    "- Meat and milk purchases together increase the cheese sales 1.66 times "
   ],
   "cell_type": "markdown",
   "metadata": {}
  },
  {
   "cell_type": "code",
   "execution_count": 18,
   "metadata": {},
   "outputs": [
    {
     "output_type": "execute_result",
     "data": {
      "text/plain": [
       "       antecedents consequents  antecedent support  consequent support  \\\n",
       "8     (Milk, Meat)    (Cheese)            0.244444            0.501587   \n",
       "11  (Cheese, Eggs)      (Meat)            0.298413            0.476190   \n",
       "13    (Eggs, Meat)    (Cheese)            0.266667            0.501587   \n",
       "\n",
       "     support  confidence      lift  leverage  conviction  \n",
       "8   0.203175    0.831169  1.657077  0.080564    2.952137  \n",
       "11  0.215873    0.723404  1.519149  0.073772    1.893773  \n",
       "13  0.215873    0.809524  1.613924  0.082116    2.616667  "
      ],
      "text/html": "<div>\n<style scoped>\n    .dataframe tbody tr th:only-of-type {\n        vertical-align: middle;\n    }\n\n    .dataframe tbody tr th {\n        vertical-align: top;\n    }\n\n    .dataframe thead th {\n        text-align: right;\n    }\n</style>\n<table border=\"1\" class=\"dataframe\">\n  <thead>\n    <tr style=\"text-align: right;\">\n      <th></th>\n      <th>antecedents</th>\n      <th>consequents</th>\n      <th>antecedent support</th>\n      <th>consequent support</th>\n      <th>support</th>\n      <th>confidence</th>\n      <th>lift</th>\n      <th>leverage</th>\n      <th>conviction</th>\n    </tr>\n  </thead>\n  <tbody>\n    <tr>\n      <th>8</th>\n      <td>(Milk, Meat)</td>\n      <td>(Cheese)</td>\n      <td>0.244444</td>\n      <td>0.501587</td>\n      <td>0.203175</td>\n      <td>0.831169</td>\n      <td>1.657077</td>\n      <td>0.080564</td>\n      <td>2.952137</td>\n    </tr>\n    <tr>\n      <th>11</th>\n      <td>(Cheese, Eggs)</td>\n      <td>(Meat)</td>\n      <td>0.298413</td>\n      <td>0.476190</td>\n      <td>0.215873</td>\n      <td>0.723404</td>\n      <td>1.519149</td>\n      <td>0.073772</td>\n      <td>1.893773</td>\n    </tr>\n    <tr>\n      <th>13</th>\n      <td>(Eggs, Meat)</td>\n      <td>(Cheese)</td>\n      <td>0.266667</td>\n      <td>0.501587</td>\n      <td>0.215873</td>\n      <td>0.809524</td>\n      <td>1.613924</td>\n      <td>0.082116</td>\n      <td>2.616667</td>\n    </tr>\n  </tbody>\n</table>\n</div>"
     },
     "metadata": {},
     "execution_count": 18
    }
   ],
   "source": [
    "# get the items where support value is lower than 0.3 and confidence is greater than 0.7\n",
    "df_ar = association_rules(freq_items, metric = \"confidence\", min_threshold=0.6)\n",
    "df_ar[(df_ar.support < 0.3) & (df_ar.confidence > 0.7)]"
   ]
  }
 ],
 "metadata": {
  "kernelspec": {
   "name": "python3",
   "display_name": "Python 3.7.9 64-bit",
   "metadata": {
    "interpreter": {
     "hash": "8f588a5af2c4e87636181920acd83d9c618abfa0f1d05f40581c4cb3071c3472"
    }
   }
  },
  "language_info": {
   "codemirror_mode": {
    "name": "ipython",
    "version": 3
   },
   "file_extension": ".py",
   "mimetype": "text/x-python",
   "name": "python",
   "nbconvert_exporter": "python",
   "pygments_lexer": "ipython3",
   "version": "3.7.9-final"
  }
 },
 "nbformat": 4,
 "nbformat_minor": 4
}